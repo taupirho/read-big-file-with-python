
from itertools import islice
from collections import defaultdict


def get_chunk_of_lines(file, N):
    """
    Retrieves N lines from specified opened file.
    """
    return [x for x in islice(file, N)]


def collect_period_ids(lines):
    """
    Collects and groups period ID's from specified lines.
    """
    collected_period_ids = defaultdict(list)

    for line in lines:
        # current period ID  from second field
        field1_end = line.find('|') +1
        field2_end = line.find('|',field1_end)
        period_id = line[field1_end:field2_end]
        # appending current line to list of collected lines associated with
        # current period_id
        collected_period_ids[period_id].append(line)

    return collected_period_ids


def export_grouped_periods(periods):
    """
    Exports collected and grouped periods.
    """
    for period_id in periods:
# defining output file name according to period ID
        out_name = R"D:\tmp\iholding\period%s.txt" % period_id
        # opening output file and writing collected lines to it
        with open(out_name, 'a+') as f:
            f.write("".join(periods[period_id]))


def main():
    
 with open(R"D:\tmp\iholding\issueholding.txt") as period_src:

    chunk_cnt = 0

    while True:
        # retrieving 1000 input lines at a time
        line_chunk = get_chunk_of_lines(period_src, 1000000)

        # exiting while loop if no more chunk is left
        if not line_chunk:
            break

        chunk_cnt += 1
        print("+ Working on chunk %d" % chunk_cnt)
 
        # collecting, grouping and exporting period ID's
        periods = collect_period_ids(line_chunk)
        export_grouped_periods(periods)
        


%prun main()



